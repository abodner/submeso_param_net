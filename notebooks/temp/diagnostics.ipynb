{
 "cells": [
  {
   "cell_type": "code",
   "execution_count": null,
   "metadata": {},
   "outputs": [],
   "source": [
    "import wandb\n",
    "import numpy as np\n",
    "import sys\n",
    "import torch\n",
    "import torch.utils.data as Data\n",
    "from torch.utils.data import DataLoader\n",
    "from torch.utils.data.sampler import SubsetRandomSampler\n",
    "import pytorch_lightning as pl\n",
    "from pytorch_lightning.loggers import WandbLogger\n",
    "from pytorch_lightning.callbacks import LearningRateMonitor\n",
    "from sklearn.metrics import r2_score\n",
    "from sklearn.metrics import mean_squared_error\n",
    "from scipy.stats import pearsonr\n",
    "import torch.nn as nn\n",
    "import glob\n",
    "import xarray as xr\n",
    "import matplotlib.pyplot as plt\n",
    "\n",
    "\n",
    "BASE = '/scratch/ab10313/pleiades/'\n",
    "PATH_NN= BASE+'NN_data_1_4/'\n",
    "save_path=BASE+\"trained_models\"\n",
    "save_name=\"fcnn_k5_l3_res_1_4.pt\"\n",
    "\n",
    "\n",
    "import submeso_ml.systems.regression_system as regression_system\n",
    "import submeso_ml.models.fcnn as fcnn\n",
    "import submeso_ml.data.dataset as dataset\n",
    "\n",
    "# Define X,Y pairs (state, subgrid fluxes) for local network.local_torch_dataset = Data.TensorDataset(\n",
    "BATCH_SIZE = 64  # Number of sample in each batch\n",
    "\n",
    "\n",
    "\n",
    "submeso_dataset=dataset.SubmesoDataset(['grad_B','FCOR', 'HML', 'TAU',\n",
    "              'Q', 'HBL', 'div', 'vort', 'strain'],res='1_4')\n",
    "\n",
    "\n",
    "train_loader=DataLoader(\n",
    "    submeso_dataset,\n",
    "    num_workers=10,\n",
    "    batch_size=64,\n",
    "    sampler=SubsetRandomSampler(submeso_dataset.train_ind))\n",
    "\n",
    "test_loader=DataLoader(\n",
    "    submeso_dataset,\n",
    "    num_workers=10,\n",
    "    batch_size=len(submeso_dataset.test_ind),\n",
    "    sampler=submeso_dataset.test_ind)"
   ]
  },
  {
   "cell_type": "code",
   "execution_count": null,
   "metadata": {},
   "outputs": [],
   "source": [
    "model = torch.load('/scratch/ab10313/pleiades/trained_models/fcnn_k5_l3_res_1_4_tmp.pt')"
   ]
  },
  {
   "cell_type": "code",
   "execution_count": null,
   "metadata": {},
   "outputs": [],
   "source": [
    "# use GPUs if available\n",
    "if torch.cuda.is_available():\n",
    "    print(\"CUDA Available\")\n",
    "    device = torch.device('cuda')\n",
    "else:\n",
    "    print('CUDA Not Available')\n",
    "    device = torch.device('cpu')"
   ]
  },
  {
   "cell_type": "code",
   "execution_count": null,
   "metadata": {},
   "outputs": [],
   "source": [
    "for x_data, y_data in test_loader:\n",
    "    prediction = model(x_data.to(device)) "
   ]
  },
  {
   "cell_type": "markdown",
   "metadata": {},
   "source": [
    "# Dataloader"
   ]
  },
  {
   "cell_type": "markdown",
   "metadata": {},
   "source": [
    "### Create input and output channels"
   ]
  },
  {
   "cell_type": "code",
   "execution_count": null,
   "metadata": {},
   "outputs": [],
   "source": [
    "\n",
    "#locations\n",
    "location_index = np.zeros(846*12)\n",
    "location_month_index= np.zeros(846*12)\n",
    "\n",
    "# 846/14 = 60, 846 length of timeseries in each region, 14 motnhs of data\n",
    "for i in range(12):\n",
    "    for j in range(846):\n",
    "        location_index[i*846+j] = i\n",
    "        location_month_index[i*846+j] = np.floor(j/60)\n"
   ]
  },
  {
   "cell_type": "code",
   "execution_count": null,
   "metadata": {},
   "outputs": [],
   "source": [
    "drF = np.load(PATH_NN+'drF.npy')\n",
    "WB_sg= np.load(PATH_NN+'WB_sg.npy')\n",
    "WB_sg_mean = np.load(PATH_NN+'WB_sg_mean.npy')\n",
    "WB_sg_std = np.load(PATH_NN+'WB_sg_std.npy')\n"
   ]
  },
  {
   "cell_type": "code",
   "execution_count": null,
   "metadata": {},
   "outputs": [],
   "source": [
    "WB_sg_std"
   ]
  },
  {
   "cell_type": "code",
   "execution_count": null,
   "metadata": {},
   "outputs": [],
   "source": [
    "# renormalize using mean and std \n",
    "# SORT test_ind for timeseries\n",
    "test_ind = submeso_dataset.test_ind\n",
    "\n",
    "mean_tile = np.tile(WB_sg_mean,(2030,1,40,40))\n",
    "std_tile = np.tile(WB_sg_std,(2030,1,40,40))\n",
    "\n",
    "# cell size \n",
    "drF_test = drF[test_ind] \n",
    "drF_test_loc = np.empty((12,2030,40,40))\n",
    "drF_test_loc[:] = np.nan\n",
    "\n",
    "WB_cnn = np.squeeze((model(x_data.to(device)).detach().cpu().numpy()*std_tile + mean_tile))\n",
    "WB_sg = np.squeeze(xr.DataArray((y_data.detach().cpu().numpy()*std_tile + mean_tile)))\n",
    "\n",
    "WB_cnn_loc = np.empty((12,2030,40,40))\n",
    "WB_cnn_loc[:] = np.nan\n",
    "WB_cnn_loc_mean = np.empty((12,2030))\n",
    "\n",
    "WB_sg_loc = np.empty((12,2030,40,40))\n",
    "WB_sg_loc[:] = np.nan\n",
    "WB_sg_loc_mean = np.empty((12,2030))\n",
    "\n",
    "\n",
    "location_month_index_test = location_month_index[test_ind]\n",
    "location_month_index_loc = np.empty((12,2030))\n",
    "location_month_index_loc[:] = np.nan\n",
    "\n",
    "for i_loc in range(12):\n",
    "\n",
    "    drF_test_loc[i_loc,location_index[test_ind]==i_loc,:,:] = drF_test[location_index[test_ind]==i_loc]\n",
    "\n",
    "    WB_cnn_loc[i_loc,location_index[test_ind]==i_loc,:,:] = WB_cnn[location_index[test_ind]==i_loc]\n",
    "    WB_cnn_loc_mean[i_loc] = (np.squeeze(np.apply_over_axes(np.sum, WB_cnn_loc[i_loc]*WB_cnn_loc[i_loc]*drF_test_loc[i_loc], [1,2])) / np.nansum(drF_test_loc[i_loc]))**0.5  \n",
    "    \n",
    "    WB_sg_loc[i_loc,location_index[test_ind]==i_loc,:,:] = WB_sg[location_index[test_ind]==i_loc]\n",
    "    WB_sg_loc_mean[i_loc] = (np.squeeze(np.apply_over_axes(np.sum, WB_sg_loc[i_loc]*WB_sg_loc[i_loc]*drF_test_loc[i_loc], [1,2]))/ np.nansum(drF_test_loc[i_loc]))**0.5\n",
    "\n",
    "    location_month_index_loc[i_loc,location_index[test_ind]==i_loc] = location_month_index_test[location_index[test_ind]==i_loc]\n"
   ]
  },
  {
   "cell_type": "code",
   "execution_count": null,
   "metadata": {},
   "outputs": [],
   "source": [
    "label_list = ['Arabian Sea','New Zealand', 'Agulhas Current', 'Kuroshio Extension', 'North Pacific', 'Equatorial Atlantic',\n",
    "              'Gulf Stream', 'South Atlantic', 'Malvinas Current', 'South Pacific','California Current', 'Indian Ocean', ]\n",
    "\n",
    "month_list = ['Jan', 'Feb', 'Mar', 'Apr', 'May', 'Jun', 'Jul', 'Aug', 'Sep', 'Oct', 'Nov', 'Dec']"
   ]
  },
  {
   "cell_type": "code",
   "execution_count": null,
   "metadata": {},
   "outputs": [],
   "source": [
    "#plot snapshots\n",
    "\n",
    "fig, axes = plt.subplots(nrows=1, ncols=2,figsize=(6,3))\n",
    "#fig.tight_layout(pad=5.0)\n",
    "\n",
    "i_loc=6\n",
    "it = 20\n",
    "clim = 1e-8\n",
    "\n",
    "plt.subplot(1,2,1)\n",
    "plt.pcolor(WB_sg_loc[i_loc,location_index[test_ind]==i_loc,:,:][it],cmap='RdBu_r',vmin=-clim,vmax=clim)\n",
    "plt.xticks([])\n",
    "plt.yticks([])\n",
    "cb = plt.colorbar(location='bottom',pad=0.05)\n",
    "cb.set_label(r'$\\overline{w^\\prime b^\\prime}^z$' + ' (W/m)')\n",
    "plt.title('Target',fontsize=12)\n",
    "\n",
    "plt.subplot(1,2,2)\n",
    "plt.pcolor(WB_cnn_loc[i_loc,location_index[test_ind]==i_loc,:,:][it],cmap='RdBu_r',vmin=-clim,vmax=clim)\n",
    "plt.xticks([])\n",
    "plt.yticks([])\n",
    "cb = plt.colorbar(location='bottom',pad=0.05)\n",
    "cb.set_label(r'$\\overline{w^\\prime b^\\prime}^z$' + ' (W/m)')\n",
    "plt.title('CNN',fontsize=12)\n",
    "\n",
    "print('Snapshots from the '+label_list[i_loc]+' during the month of '+month_list[round(location_month_index_test[it])-1])\n",
    "#plt.savefig('./figures/snapshots')"
   ]
  },
  {
   "cell_type": "code",
   "execution_count": 26,
   "metadata": {},
   "outputs": [
    {
     "data": {
      "text/plain": [
       "0.8054838137219993"
      ]
     },
     "execution_count": 26,
     "metadata": {},
     "output_type": "execute_result"
    }
   ],
   "source": [
    "# compute r2 value across all test dataset\n",
    "\n",
    "r2_score_cnn = r2_score(WB_sg.values.flatten(),WB_cnn.flatten())\n",
    "r2_score_cnn"
   ]
  },
  {
   "cell_type": "code",
   "execution_count": null,
   "metadata": {},
   "outputs": [],
   "source": []
  },
  {
   "cell_type": "code",
   "execution_count": null,
   "metadata": {},
   "outputs": [],
   "source": []
  }
 ],
 "metadata": {
  "kernelspec": {
   "display_name": "chris_env",
   "language": "python",
   "name": "chris_env"
  },
  "language_info": {
   "codemirror_mode": {
    "name": "ipython",
    "version": 3
   },
   "file_extension": ".py",
   "mimetype": "text/x-python",
   "name": "python",
   "nbconvert_exporter": "python",
   "pygments_lexer": "ipython3",
   "version": "3.9.12"
  }
 },
 "nbformat": 4,
 "nbformat_minor": 4
}
